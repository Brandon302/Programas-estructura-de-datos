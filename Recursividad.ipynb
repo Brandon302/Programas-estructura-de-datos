{
  "nbformat": 4,
  "nbformat_minor": 0,
  "metadata": {
    "colab": {
      "provenance": [],
      "collapsed_sections": [],
      "authorship_tag": "ABX9TyPgIqU/ZkLMBnlk+mR0700e",
      "include_colab_link": true
    },
    "kernelspec": {
      "name": "python3",
      "display_name": "Python 3"
    },
    "language_info": {
      "name": "python"
    }
  },
  "cells": [
    {
      "cell_type": "markdown",
      "metadata": {
        "id": "view-in-github",
        "colab_type": "text"
      },
      "source": [
        "<a href=\"https://colab.research.google.com/github/Brandon302/Programas-estructura-de-datos/blob/main/Recursividad.ipynb\" target=\"_parent\"><img src=\"https://colab.research.google.com/assets/colab-badge.svg\" alt=\"Open In Colab\"/></a>"
      ]
    },
    {
      "cell_type": "code",
      "execution_count": 23,
      "metadata": {
        "colab": {
          "base_uri": "https://localhost:8080/"
        },
        "id": "Q4wfVV3tNnMN",
        "outputId": "9aa90651-622e-4181-9d4f-0dfa48054a1c"
      },
      "outputs": [
        {
          "output_type": "stream",
          "name": "stdout",
          "text": [
            "ingresa un numero del 1 al 1000  900\n",
            "fallaste intenta de nuevo el numero es menor, vas en el intento  1\n",
            "ingresa un numero del 1 al 1000  4\n",
            "fallaste intenta de nuevo el numero es mayor, vas en el intento 2\n",
            "ingresa un numero del 1 al 1000  500\n",
            "ganaste\n",
            "has hecho 3 intentos\n",
            "ganaste\n",
            "has hecho 2 intentos\n"
          ]
        }
      ],
      "source": [
        "def jugar(intento=1):\n",
        "  respuesta = input(\"ingresa un numero del 1 al 1000  \")\n",
        "  if respuesta > \"500\":\n",
        "     if intento < 1000:\n",
        "      print (\"fallaste intenta de nuevo el numero es menor, vas en el intento \", intento)\n",
        "      intento +=1\n",
        "      jugar (intento)\n",
        "     else:\n",
        "      print(\"Perdistes\")\n",
        "  if respuesta < \"500\":\n",
        "     if intento < 1000:\n",
        "      print (\"fallaste intenta de nuevo el numero es mayor, vas en el intento\", intento)\n",
        "      intento +=1\n",
        "      jugar(intento)\n",
        "     else:\n",
        "      print(\"Perdistes\")\n",
        "  else: \n",
        "    print (\"ganaste\") \n",
        "    print (\"has hecho\",intento,\"intentos\")\n",
        "  \n",
        "jugar()"
      ]
    },
    {
      "cell_type": "code",
      "source": [],
      "metadata": {
        "id": "qtollE0SSFxQ"
      },
      "execution_count": null,
      "outputs": []
    }
  ]
}