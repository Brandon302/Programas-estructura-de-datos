{
  "nbformat": 4,
  "nbformat_minor": 0,
  "metadata": {
    "colab": {
      "provenance": [],
      "collapsed_sections": [],
      "authorship_tag": "ABX9TyOdeuZ2Ah7lN6f+1Gw1Dfwh",
      "include_colab_link": true
    },
    "kernelspec": {
      "name": "python3",
      "display_name": "Python 3"
    },
    "language_info": {
      "name": "python"
    }
  },
  "cells": [
    {
      "cell_type": "markdown",
      "metadata": {
        "id": "view-in-github",
        "colab_type": "text"
      },
      "source": [
        "<a href=\"https://colab.research.google.com/github/Brandon302/Programas-estructura-de-datos/blob/main/Examen_Unidad_2.ipynb\" target=\"_parent\"><img src=\"https://colab.research.google.com/assets/colab-badge.svg\" alt=\"Open In Colab\"/></a>"
      ]
    },
    {
      "cell_type": "markdown",
      "source": [
        "##Examen Elaborado por brandon Ruiz Silvestre \n"
      ],
      "metadata": {
        "id": "ivch8i-5oztt"
      }
    },
    {
      "cell_type": "code",
      "execution_count": null,
      "metadata": {
        "id": "Q8Sj42z4orCi"
      },
      "outputs": [],
      "source": [
        "class examen:\n",
        "    def __init__(self):\n",
        "        self.comidas = []\n",
        "        self.bebidas = []\n",
        "        self.postres = []\n",
        "        self. op = 0\n",
        "        self.nombre = []\n",
        "        self.x =[]\n",
        "        self.entregar = []\n",
        "\n",
        "    def comida(self):\n",
        "        self.comidas.append(input(\"ingresa la comidas en existencia\"))\n",
        "        print(self.comidas)\n",
        "\n",
        "    def bebida(self):\n",
        "        self.bebidas.append(input(\"ingresa la bebidas en existencia\"))\n",
        "        print(self.bebidas)\n",
        "\n",
        "    def postre(self):\n",
        "        self.postres.append(input(\"ingresa los postres en existencias\"))\n",
        "        print(self.postres)\n",
        "\n",
        "    def entrega(self):\n",
        "        self.nombre = input(\"ingresa tu nombre \")\n",
        "        try:\n",
        "            self.x.append(self.comidas.pop(0))\n",
        "        except:\n",
        "            print(\"no hay comida disponible\")\n",
        "        try:\n",
        "            self.x.append(self.bebidas.pop(0))\n",
        "        except:\n",
        "            print(\"no hay bebida  disponible\")\n",
        "        try:\n",
        "            self.x.append(self.postres.pop(0))\n",
        "        except:\n",
        "            print(\"no hay postre disponible\")\n",
        "        self.x.append(self.nombre)\n",
        "        self.entregar.append(self.x)\n",
        "        print(self.entregar)\n",
        "        \n",
        "    def es_vacia(self):\n",
        "        if self.comidas == []:\n",
        "            print(\"La cola esta vacia\")\n",
        "        \n",
        "    def menu (self):\n",
        "        while self.op !=6:\n",
        "            print(\"opcion 1 = Ingresa la comida preparada ya sea (torta, baguette, sandwich)\")\n",
        "            print(\"opcion 2 = Ingresa las bebidas en existencia  ya sea (Refresco, agua , jugo)\")\n",
        "            print(\"opcion 3 = Ingresa los postres  en existencia  ya sea (Flan, pastel, gelatina )\")\n",
        "            print(\"opcion 4 = Atender al primer cliente \")\n",
        "            print(\"opcion 5 = revisa si la comida ya  se termino\")\n",
        "            self.op= int(input(\"Elija una opcion\"))\n",
        "            if self.op == 1:\n",
        "                obj.comida()\n",
        "            elif self.op ==2:\n",
        "                obj.bebida()\n",
        "            elif self.op ==3:\n",
        "                obj.postre()\n",
        "            elif self.op == 4:\n",
        "                obj.entrega()\n",
        "                self.entregar=[]\n",
        "            elif self.op == 5:\n",
        "                obj.es_vacia()\n",
        "            else:\n",
        "                print(\"Opcion incorrecta\")\n",
        "        print(\"ADIOS\")\n",
        "\n",
        "obj = examen()\n",
        "obj.menu()"
      ]
    }
  ]
}