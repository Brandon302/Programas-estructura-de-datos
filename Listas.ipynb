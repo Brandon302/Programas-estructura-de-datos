{
  "nbformat": 4,
  "nbformat_minor": 0,
  "metadata": {
    "colab": {
      "provenance": [],
      "authorship_tag": "ABX9TyObdhis+onjix4jr7Fj+69K",
      "include_colab_link": true
    },
    "kernelspec": {
      "name": "python3",
      "display_name": "Python 3"
    },
    "language_info": {
      "name": "python"
    }
  },
  "cells": [
    {
      "cell_type": "markdown",
      "metadata": {
        "id": "view-in-github",
        "colab_type": "text"
      },
      "source": [
        "<a href=\"https://colab.research.google.com/github/Brandon302/Programas-estructura-de-datos/blob/main/Listas.ipynb\" target=\"_parent\"><img src=\"https://colab.research.google.com/assets/colab-badge.svg\" alt=\"Open In Colab\"/></a>"
      ]
    },
    {
      "cell_type": "markdown",
      "source": [
        "##Practica de Lista (Remove,Reverse,sort)"
      ],
      "metadata": {
        "id": "vemAWWI1D88g"
      }
    },
    {
      "cell_type": "markdown",
      "source": [
        "##Remove"
      ],
      "metadata": {
        "id": "P9944vh1EiWV"
      }
    },
    {
      "cell_type": "code",
      "source": [
        "numeros = [2.1, 2.5, 3.6, 4, 5, 6]\n",
        "print (numeros)\n",
        "numeros.remove(2.5)\n",
        "print (numeros)"
      ],
      "metadata": {
        "colab": {
          "base_uri": "https://localhost:8080/"
        },
        "id": "58f_8_ceEQbn",
        "outputId": "09da892f-056f-4821-da76-3e0fddaee16e"
      },
      "execution_count": 5,
      "outputs": [
        {
          "output_type": "stream",
          "name": "stdout",
          "text": [
            "[2.1, 2.5, 3.6, 4, 5, 6]\n",
            "[2.1, 3.6, 4, 5, 6]\n"
          ]
        }
      ]
    },
    {
      "cell_type": "markdown",
      "source": [
        "##Reverse"
      ],
      "metadata": {
        "id": "2KfGvdv9En1-"
      }
    },
    {
      "cell_type": "code",
      "source": [
        "numeros = [2.1, 2.5, 3.6, 4, 5, 6]\n",
        "print (numeros)\n",
        "numeros.reverse()\n",
        "print (numeros)\n"
      ],
      "metadata": {
        "colab": {
          "base_uri": "https://localhost:8080/"
        },
        "id": "-0Nx_ovzErR9",
        "outputId": "3482e02c-0c73-46d8-9313-36353a44f372"
      },
      "execution_count": 6,
      "outputs": [
        {
          "output_type": "stream",
          "name": "stdout",
          "text": [
            "[2.1, 2.5, 3.6, 4, 5, 6]\n",
            "[6, 5, 4, 3.6, 2.5, 2.1]\n"
          ]
        }
      ]
    },
    {
      "cell_type": "markdown",
      "source": [
        "##Sort"
      ],
      "metadata": {
        "id": "nJH2wiGtE_Hm"
      }
    },
    {
      "cell_type": "code",
      "source": [
        "numeros = [4, 2.5, 5, 3.6, 2.1, 6]\n",
        "print (numeros)\n",
        "numeros.sort()\n",
        "print (numeros)\n"
      ],
      "metadata": {
        "colab": {
          "base_uri": "https://localhost:8080/"
        },
        "id": "3D-ZaVW5E-ym",
        "outputId": "1842154b-ebc7-474e-f7bb-3323b814c5dc"
      },
      "execution_count": 7,
      "outputs": [
        {
          "output_type": "stream",
          "name": "stdout",
          "text": [
            "[4, 2.5, 5, 3.6, 2.1, 6]\n",
            "[2.1, 2.5, 3.6, 4, 5, 6]\n"
          ]
        }
      ]
    }
  ]
}