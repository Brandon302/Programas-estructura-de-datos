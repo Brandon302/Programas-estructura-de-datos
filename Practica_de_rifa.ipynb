{
  "nbformat": 4,
  "nbformat_minor": 0,
  "metadata": {
    "colab": {
      "provenance": [],
      "collapsed_sections": [],
      "authorship_tag": "ABX9TyMlgafyCOYJ2mWYknCzijJz",
      "include_colab_link": true
    },
    "kernelspec": {
      "name": "python3",
      "display_name": "Python 3"
    },
    "language_info": {
      "name": "python"
    }
  },
  "cells": [
    {
      "cell_type": "markdown",
      "metadata": {
        "id": "view-in-github",
        "colab_type": "text"
      },
      "source": [
        "<a href=\"https://colab.research.google.com/github/Brandon302/Programas-estructura-de-datos/blob/main/Practica_de_rifa.ipynb\" target=\"_parent\"><img src=\"https://colab.research.google.com/assets/colab-badge.svg\" alt=\"Open In Colab\"/></a>"
      ]
    },
    {
      "cell_type": "markdown",
      "source": [
        "##Practica de Rifa local"
      ],
      "metadata": {
        "id": "Oh4AuZGjjmB_"
      }
    },
    {
      "cell_type": "code",
      "execution_count": null,
      "metadata": {
        "id": "HLiysUUMjjfG"
      },
      "outputs": [],
      "source": [
        "premios=[\"carro\",\"avion\",\"celular\",\"100000\",\"audifonos\"]\n",
        "loteria=[1,1,0,1,1,0,0,1,0,1,1,0,1,1,0,1,1,1]\n",
        "deseo=\"\"\n",
        "x=0\n",
        "print(\"los premios son \",premios)\n",
        "deseo=input(\"que premio quieres \")\n",
        "def gana ():\n",
        "    global premios\n",
        "    global loteria\n",
        "    global deseo\n",
        "    global x\n",
        "\n",
        "    if deseo == premios[0] and deseo == premios[1] or deseo == premios[2] or deseo == premios[3] or deseo == premios[4] and loteria.pop()==0:\n",
        "        print(\"obtendras tu \",deseo,\" en \",x,\" intentos\" )\n",
        "\n",
        "    try:\n",
        "        if loteria.pop()==1:\n",
        "            print(\"sigue participando\")\n",
        "        else:\n",
        "            print(\"ganaste\",premios.pop(0))"
      ]
    },
    {
      "cell_type": "code",
      "source": [],
      "metadata": {
        "id": "uBwQ7Z4rj0sa"
      },
      "execution_count": null,
      "outputs": []
    }
  ]
}